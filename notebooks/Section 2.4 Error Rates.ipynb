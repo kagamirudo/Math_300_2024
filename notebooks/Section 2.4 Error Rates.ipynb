{
 "cells": [
  {
   "cell_type": "code",
   "execution_count": 1,
   "id": "42ac7f7e-61c6-4a65-8029-138cbcb7034d",
   "metadata": {},
   "outputs": [],
   "source": [
    "using Plots"
   ]
  },
  {
   "cell_type": "code",
   "execution_count": 3,
   "id": "5fdecb9f-c40c-416d-a046-325a3c5dc964",
   "metadata": {},
   "outputs": [],
   "source": [
    "default(lw=2,markersize = 6,\n",
    "    xtickfont=font(12), ytickfont=font(12), \n",
    "    guidefont=font(14), legendfont=font(12),titlefont=font(12))"
   ]
  },
  {
   "cell_type": "code",
   "execution_count": null,
   "id": "41655e53-b3ad-4e8d-94c0-aec99eccc44c",
   "metadata": {},
   "outputs": [],
   "source": [
    "n_vals = 1:10;\n",
    "p0 = .1;\n",
    "q0 = .1;\n",
    "λp = .5;\n",
    "λq = 3.;\n",
    "\n",
    "plot((@. λp ^(n_vals)) * abs(p0), label=\"Linear\", yaxis=(:log10, [1e-15, :auto]), legend=:right)\n",
    "plot!((@. λq ^(2*n_vals-1) * abs(q0)^((2^n_vals) - 1)), label=\"Quadratic\")\n",
    "yticks!(10. .^(-15:0))\n",
    "xlabel!(\"n\")\n",
    "ylabel!(\"Error\")"
   ]
  },
  {
   "cell_type": "code",
   "execution_count": null,
   "id": "c0da0ccb",
   "metadata": {},
   "outputs": [],
   "source": []
  }
 ],
 "metadata": {
  "kernelspec": {
   "display_name": "Julia 1.11.0",
   "language": "julia",
   "name": "julia-1.11"
  },
  "language_info": {
   "file_extension": ".jl",
   "mimetype": "application/julia",
   "name": "julia",
   "version": "1.11.0"
  }
 },
 "nbformat": 4,
 "nbformat_minor": 5
}
