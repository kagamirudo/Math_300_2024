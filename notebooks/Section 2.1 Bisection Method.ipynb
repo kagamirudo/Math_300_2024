{
 "cells": [
  {
   "cell_type": "markdown",
   "id": "3c08e857-33cf-4753-9113-c17fc6352f8f",
   "metadata": {},
   "source": [
    "# Bisection Method"
   ]
  },
  {
   "cell_type": "code",
   "execution_count": 3,
   "id": "63b2d2ee-4a91-49e7-ae89-3eb0055c687e",
   "metadata": {},
   "outputs": [],
   "source": [
    "using Plots\n",
    "using Printf\n",
    "using LaTeXStrings"
   ]
  },
  {
   "cell_type": "code",
   "execution_count": 4,
   "id": "815c83ff-47c1-4477-9f6f-6b894ec14695",
   "metadata": {},
   "outputs": [],
   "source": [
    "default(lw=2,markersize = 6,\n",
    "    xtickfont=font(12), ytickfont=font(12), \n",
    "    guidefont=font(14), legendfont=font(12),titlefont=font(12))"
   ]
  },
  {
   "cell_type": "code",
   "execution_count": 5,
   "id": "898f2ec5-4dae-4b01-93e6-8f05fe654364",
   "metadata": {},
   "outputs": [
    {
     "data": {
      "text/plain": [
       "bisection (generic function with 1 method)"
      ]
     },
     "metadata": {},
     "output_type": "display_data"
    }
   ],
   "source": [
    "function bisection(f, a, b, n_max, tol; verbose = true)\n",
    "    \n",
    "    converged = false;\n",
    "    p = 0;\n",
    "    for i in 1:n_max\n",
    "\n",
    "        p = 0.5 * (a+b); # compute the midpoint \n",
    "        \n",
    "        # print current iterate information to screen \n",
    "        if verbose\n",
    "            @printf(\" %3d: a = %.8f, b = %.8f, p = %.8f, |f(p)|  = %g\\n\", i, a, b, p, abs(f(p)));\n",
    "        end\n",
    "\n",
    "        # determine if the root is in the left or right interval\n",
    "        if (f(a) * f(p) <= 0)\n",
    "            b = p; # root is interval [a,p]\n",
    "        else\n",
    "            a = p # root is in interval [p,b]\n",
    "        end\n",
    "        if(abs(f(p))==0)\n",
    "            converged = true;\n",
    "            break\n",
    "        end\n",
    "        \n",
    "        # test for convergence\n",
    "        if .5*(b-a)< tol\n",
    "            converged = true;\n",
    "            break\n",
    "        end\n",
    "    end\n",
    "    \n",
    "    if !converged\n",
    "        @printf(\"ERROR: Did not converge after %d iterations\\n\", n_max);\n",
    "    end\n",
    "\n",
    "    return p # return midpoint guess\n",
    "    \n",
    "end"
   ]
  },
  {
   "cell_type": "markdown",
   "id": "4ceb79bf-3b08-4684-9383-242d2234d22f",
   "metadata": {},
   "source": [
    "## Example 1\n",
    "Find a root of $x^3 + 4x^2 - 10$ in $[1,2]$."
   ]
  },
  {
   "cell_type": "code",
   "execution_count": 6,
   "id": "2a6098b8-ff5d-4ed1-85ba-f133b5062157",
   "metadata": {},
   "outputs": [
    {
     "name": "stdout",
     "output_type": "stream",
     "text": [
      "   1: a = 1.00000000, b = 2.00000000, p = 1.50000000, |f(p)|  = 2.375\n",
      "   2: a = 1.00000000, b = 1.50000000, p = 1.25000000, |f(p)|  = 1.79688\n",
      "   3: a = 1.25000000, b = 1.50000000, p = 1.37500000, |f(p)|  = 0.162109\n",
      "   4: a = 1.25000000, b = 1.37500000, p = 1.31250000, |f(p)|  = 0.848389\n",
      "   5: a = 1.31250000, b = 1.37500000, p = 1.34375000, |f(p)|  = 0.350983\n",
      "   6: a = 1.34375000, b = 1.37500000, p = 1.35937500, |f(p)|  = 0.0964088\n",
      "   7: a = 1.35937500, b = 1.37500000, p = 1.36718750, |f(p)|  = 0.0323558\n",
      "   8: a = 1.35937500, b = 1.36718750, p = 1.36328125, |f(p)|  = 0.03215\n",
      "   9: a = 1.36328125, b = 1.36718750, p = 1.36523438, |f(p)|  = 7.20248e-05\n",
      "  10: a = 1.36328125, b = 1.36523438, p = 1.36425781, |f(p)|  = 0.0160467\n",
      "  11: a = 1.36425781, b = 1.36523438, p = 1.36474609, |f(p)|  = 0.00798926\n",
      "  12: a = 1.36474609, b = 1.36523438, p = 1.36499023, |f(p)|  = 0.0039591\n",
      "  13: a = 1.36499023, b = 1.36523438, p = 1.36511230, |f(p)|  = 0.00194366\n",
      "  14: a = 1.36511230, b = 1.36523438, p = 1.36517334, |f(p)|  = 0.000935847\n",
      "  15: a = 1.36517334, b = 1.36523438, p = 1.36520386, |f(p)|  = 0.000431919\n",
      "  16: a = 1.36520386, b = 1.36523438, p = 1.36521912, |f(p)|  = 0.000179949\n",
      "  17: a = 1.36521912, b = 1.36523438, p = 1.36522675, |f(p)|  = 5.39625e-05\n",
      "  18: a = 1.36522675, b = 1.36523438, p = 1.36523056, |f(p)|  = 9.03099e-06\n",
      "  19: a = 1.36522675, b = 1.36523056, p = 1.36522865, |f(p)|  = 2.24658e-05\n",
      "  20: a = 1.36522865, b = 1.36523056, p = 1.36522961, |f(p)|  = 6.71741e-06\n",
      "  21: a = 1.36522961, b = 1.36523056, p = 1.36523008, |f(p)|  = 1.15679e-06\n",
      "  22: a = 1.36522961, b = 1.36523008, p = 1.36522985, |f(p)|  = 2.78031e-06\n",
      "  23: a = 1.36522985, b = 1.36523008, p = 1.36522996, |f(p)|  = 8.11763e-07\n",
      "  24: a = 1.36522996, b = 1.36523008, p = 1.36523002, |f(p)|  = 1.72513e-07\n",
      "  25: a = 1.36522996, b = 1.36523002, p = 1.36522999, |f(p)|  = 3.19625e-07\n",
      "  26: a = 1.36522999, b = 1.36523002, p = 1.36523001, |f(p)|  = 7.35561e-08\n"
     ]
    },
    {
     "data": {
      "text/plain": [
       "1.3652300089597702"
      ]
     },
     "metadata": {},
     "output_type": "display_data"
    }
   ],
   "source": [
    "f = x-> x^3 + 4 * x^2 - 10;\n",
    " # or f(x) = x^3 + 4 * x^2 - 10;\n",
    "a = 1;\n",
    "b = 2;\n",
    "n_max = 100;\n",
    "tol = 1e-8;\n",
    "\n",
    "bisection(f, a, b, n_max, tol)"
   ]
  },
  {
   "cell_type": "code",
   "execution_count": 7,
   "id": "3b230f5f-661a-49d9-9131-3c9ded137836",
   "metadata": {},
   "outputs": [
    {
     "name": "stdout",
     "output_type": "stream",
     "text": [
      "   1: a = 1.00000000, b = 2.00000000, p = 1.50000000, |f(p)| = 2.375\n",
      "   2: a = 1.00000000, b = 1.50000000, p = 1.25000000, |f(p)| = 1.79688\n",
      "   3: a = 1.25000000, b = 1.50000000, p = 1.37500000, |f(p)| = 0.162109\n",
      "   4: a = 1.25000000, b = 1.37500000, p = 1.31250000, |f(p)| = 0.848389\n",
      "   5: a = 1.31250000, b = 1.37500000, p = 1.34375000, |f(p)| = 0.350983\n",
      "   6: a = 1.34375000, b = 1.37500000, p = 1.35937500, |f(p)| = 0.0964088\n",
      "   7: a = 1.35937500, b = 1.37500000, p = 1.36718750, |f(p)| = 0.0323558\n",
      "   8: a = 1.35937500, b = 1.36718750, p = 1.36328125, |f(p)| = 0.03215\n",
      "   9: a = 1.36328125, b = 1.36718750, p = 1.36523438, |f(p)| = 7.20248e-05\n",
      "  10: a = 1.36328125, b = 1.36523438, p = 1.36425781, |f(p)| = 0.0160467\n",
      "  11: a = 1.36425781, b = 1.36523438, p = 1.36474609, |f(p)| = 0.00798926\n",
      "  12: a = 1.36474609, b = 1.36523438, p = 1.36499023, |f(p)| = 0.0039591\n",
      "  13: a = 1.36499023, b = 1.36523438, p = 1.36511230, |f(p)| = 0.00194366\n",
      "  14: a = 1.36511230, b = 1.36523438, p = 1.36517334, |f(p)| = 0.000935847\n",
      "  15: a = 1.36517334, b = 1.36523438, p = 1.36520386, |f(p)| = 0.000431919\n",
      "  16: a = 1.36520386, b = 1.36523438, p = 1.36521912, |f(p)| = 0.000179949\n",
      "  17: a = 1.36521912, b = 1.36523438, p = 1.36522675, |f(p)| = 5.39625e-05\n",
      "  18: a = 1.36522675, b = 1.36523438, p = 1.36523056, |f(p)| = 9.03099e-06\n",
      "  19: a = 1.36522675, b = 1.36523056, p = 1.36522865, |f(p)| = 2.24658e-05\n",
      "  20: a = 1.36522865, b = 1.36523056, p = 1.36522961, |f(p)| = 6.71741e-06\n"
     ]
    },
    {
     "data": {
      "text/plain": [
       "Animation(\"/tmp/jl_TLJmgP\", [\"000001.png\", \"000002.png\", \"000003.png\", \"000004.png\", \"000005.png\", \"000006.png\", \"000007.png\", \"000008.png\", \"000009.png\", \"000010.png\", \"000011.png\", \"000012.png\", \"000013.png\", \"000014.png\", \"000015.png\", \"000016.png\", \"000017.png\", \"000018.png\", \"000019.png\", \"000020.png\"])"
      ]
     },
     "metadata": {},
     "output_type": "display_data"
    }
   ],
   "source": [
    "n_max = 20;\n",
    "a_vals = zeros(n_max);\n",
    "b_vals = zeros(n_max);\n",
    "p_vals = zeros(n_max);\n",
    "a = 1;\n",
    "b = 2;\n",
    "p = 0;\n",
    "for i in 1:n_max\n",
    "    a_vals[i] = a;\n",
    "    b_vals[i] = b;\n",
    "    p = 0.5 *  (a+b);\n",
    "    p_vals[i] = p;\n",
    "    @printf(\" %3d: a = %.8f, b = %.8f, p = %.8f, |f(p)| = %g\\n\", i, a, b, p, abs(f(p)));\n",
    "    if ( f(a) * f(p)<=0)\n",
    "        b = p;\n",
    "    else\n",
    "        a = p\n",
    "    end    \n",
    "end\n",
    "\n",
    "anim = @animate for i=1:n_max\n",
    "    xx = LinRange(1,2,100);\n",
    "    ff = f.(xx);\n",
    "    plot(xx, ff, label=\"f(x)\")\n",
    "    plot!([a_vals[i],b_vals[i]], [0,0], label=\"\")\n",
    "    plot!([p_vals[i],p_vals[i]],[0,f(p_vals[i])],label=\"\")\n",
    "    xlims!(1,2)\n",
    "    ylims!(f(1), f(2))\n",
    "    \n",
    "    xlabel!(\"x\");\n",
    "    ylabel!(\"y\")\n",
    "    title!(@sprintf(\"n = %d\", i))\n",
    "end\n"
   ]
  },
  {
   "cell_type": "code",
   "execution_count": 8,
   "id": "84eed727-5327-4e67-a7ad-2b660f4bc2f7",
   "metadata": {},
   "outputs": [
    {
     "name": "stderr",
     "output_type": "stream",
     "text": [
      "┌ Info: Saved animation to /tmp/jl_d8xW5qxO1s.gif\n",
      "└ @ Plots /home/kagamirudo/.julia/packages/Plots/kLeqV/src/animation.jl:156\n"
     ]
    },
    {
     "data": {
      "text/html": [
       "<img src=\"data:image/gif;base64,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\" />"
      ],
      "text/plain": [
       "Plots.AnimatedGif(\"/tmp/jl_d8xW5qxO1s.gif\")"
      ]
     },
     "metadata": {},
     "output_type": "display_data"
    }
   ],
   "source": [
    "gif(anim,  fps = 5)"
   ]
  },
  {
   "cell_type": "markdown",
   "id": "b45a27c2-3b04-4117-aa78-a2eb20e63833",
   "metadata": {},
   "source": [
    "## Conservative Nature of the Error Estimator\n",
    "The number of iterations the theorem predicts that to get \n",
    "$$\n",
    "|p_n -p|< {\\rm TOL},\n",
    "$$\n",
    "it is sufficient to take $n$ large enough such that\n",
    "$$\n",
    "\\frac{b-a}{2^n} < {\\rm TOL}\n",
    "$$\n",
    "\n",
    "will be needed to satisfy a particular absolute error is often much higher than needed.\n",
    "\n",
    "Suppose, for the above problem, we want an absolute error $<10^{-3}$.  "
   ]
  },
  {
   "cell_type": "code",
   "execution_count": 9,
   "id": "4423b1a6-8b5e-40cc-82b6-3498d4575e44",
   "metadata": {},
   "outputs": [
    {
     "name": "stdout",
     "output_type": "stream",
     "text": [
      "n_max = ceil(Int, log2((b - a) / TOL)) = 10\n",
      "abs(p - p_exact) = 0.0009722009140999965\n"
     ]
    }
   ],
   "source": [
    "p_exact = 1.3652300134141; # found elsewhere\n",
    "a = 1;\n",
    "b = 2;\n",
    "TOL = 10^-3;\n",
    "\n",
    "@show n_max= ceil(Int, log2((b-a)/TOL));\n",
    "\n",
    "a_vals = zeros(n_max);\n",
    "b_vals = zeros(n_max);\n",
    "p_vals = zeros(n_max);\n",
    "p = 0;\n",
    "for i in 1:n_max\n",
    "    a_vals[i] = a;\n",
    "    b_vals[i] = b;\n",
    "    p = 0.5 *  (a+b);\n",
    "    p_vals[i] = p;\n",
    "    if ( f(a) * f(p)<=0)\n",
    "        b = p;\n",
    "    else\n",
    "        a = p\n",
    "    end    \n",
    "end\n",
    "\n",
    "@show abs(p-p_exact);"
   ]
  },
  {
   "cell_type": "code",
   "execution_count": 10,
   "id": "52f23980-4730-4538-8c95-c10371d14e6e",
   "metadata": {},
   "outputs": [
    {
     "data": {
      "text/plain": [
       "10-element Vector{Float64}:\n",
       " 0.1347699865859\n",
       " 0.1152300134141\n",
       " 0.009769986585900003\n",
       " 0.0527300134141\n",
       " 0.021480013414099997\n",
       " 0.0058550134140999965\n",
       " 0.0019574865859000035\n",
       " 0.0019487634140999965\n",
       " 4.361585900003462e-6\n",
       " 0.0009722009140999965"
      ]
     },
     "metadata": {},
     "output_type": "display_data"
    }
   ],
   "source": [
    "@. abs(p_vals - p_exact)"
   ]
  },
  {
   "cell_type": "markdown",
   "id": "39cf60a7",
   "metadata": {},
   "source": [
    "Note that we had an answer within $10^{-3}$ after 9 iterations, even though the theorem said we needed 10."
   ]
  }
 ],
 "metadata": {
  "kernelspec": {
   "display_name": "Julia 1.8.1",
   "language": "julia",
   "name": "julia-1.8"
  },
  "language_info": {
   "file_extension": ".jl",
   "mimetype": "application/julia",
   "name": "julia",
   "version": "1.8.1"
  }
 },
 "nbformat": 4,
 "nbformat_minor": 5
}
