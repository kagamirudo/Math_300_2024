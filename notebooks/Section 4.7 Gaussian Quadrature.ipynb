{
 "cells": [
  {
   "cell_type": "code",
   "execution_count": 1,
   "id": "f7fbad43-0594-4209-b75b-217e32a15935",
   "metadata": {},
   "outputs": [],
   "source": [
    "using Printf\n",
    "using LinearAlgebra\n",
    "using Polynomials"
   ]
  },
  {
   "cell_type": "markdown",
   "id": "062932b7-5360-473b-a037-2c46e359f5e6",
   "metadata": {},
   "source": [
    "## Gaussian Quadarture with n = 2"
   ]
  },
  {
   "cell_type": "code",
   "execution_count": 2,
   "id": "7275f839-000e-4955-9e06-0b7b017a1abc",
   "metadata": {},
   "outputs": [
    {
     "name": "stdout",
     "output_type": "stream",
     "text": [
      "k = 0\n",
      "Gaussian error = 0\n",
      "k = 1\n",
      "Gaussian error = 0\n",
      "k = 2\n",
      "Gaussian error = 0\n",
      "k = 3\n",
      "Gaussian error = 0\n",
      "k = 4\n",
      "Gaussian error = 0.177778\n"
     ]
    }
   ],
   "source": [
    "x_gauss = [-sqrt(3)/3, sqrt(3)/3];\n",
    "c_gauss = [1, 1];\n",
    "\n",
    "k_vals = 0:4\n",
    "for k in k_vals\n",
    "    f = x-> x^k;\n",
    "    ∫f_exact = (1^(k+1) - (-1)^(k+1))/(k+1);\n",
    "    ∫f_gauss=  c_gauss ⋅ f.(x_gauss);\n",
    "    @show k;\n",
    "    @printf(\"Gaussian error = %g\\n\", abs(∫f_exact - ∫f_gauss));\n",
    "end"
   ]
  },
  {
   "cell_type": "markdown",
   "id": "ce338311-6ee2-4396-b447-08562f693561",
   "metadata": {},
   "source": [
    "## Comparison with Trapezoidal Rule"
   ]
  },
  {
   "cell_type": "code",
   "execution_count": 3,
   "id": "d92f5957-c63d-497b-8e06-01098bb93633",
   "metadata": {},
   "outputs": [
    {
     "name": "stdout",
     "output_type": "stream",
     "text": [
      "Exact = 2.3504\n",
      "Gauss = 2.3427\n",
      "Trap  = 3.08616\n"
     ]
    }
   ],
   "source": [
    "f = x-> exp(x);\n",
    "∫f_gauss =  c_gauss ⋅ f.(x_gauss);\n",
    "∫f_trap  =  .5 * 2 * (f(-1) + f(1));\n",
    "@printf(\"Exact = %g\\n\", exp(1)-exp(-1));\n",
    "@printf(\"Gauss = %g\\n\", ∫f_gauss);\n",
    "@printf(\"Trap  = %g\\n\", ∫f_trap);"
   ]
  },
  {
   "cell_type": "markdown",
   "id": "6af2b113-d11d-4f6c-a329-a969e1286e53",
   "metadata": {},
   "source": [
    "## Gaussian Quadrature for n = 3"
   ]
  },
  {
   "cell_type": "code",
   "execution_count": 4,
   "id": "69e71f12-1dcd-40e9-be86-395ead55a848",
   "metadata": {},
   "outputs": [
    {
     "name": "stdout",
     "output_type": "stream",
     "text": [
      "P3 = Polynomial(-0.6*x + 1.0*x^3)\n",
      "x_gauss = sort(roots(P3)) = [-0.7745966692414834, 0.0, 0.7745966692414833]\n"
     ]
    }
   ],
   "source": [
    "# Third Legendre polynomial found in a table, x³ - 3/5 x\n",
    "P3 = Polynomial([0, -3/5, 0, 1]); \n",
    "@show P3;\n",
    "@show x_gauss = sort(roots(P3));"
   ]
  },
  {
   "cell_type": "code",
   "execution_count": 5,
   "id": "73795d4b-d15c-469d-8c99-b63e05f6e043",
   "metadata": {},
   "outputs": [],
   "source": [
    "# these were found analytically\n",
    "c_gauss = [ (2/3 + 2 * x_gauss[2]* x_gauss[3])/((x_gauss[1] - x_gauss[2])*(x_gauss[1] - x_gauss[3]))\n",
    "            (2/3 + 2 * x_gauss[1]* x_gauss[3])/((x_gauss[2] - x_gauss[1])*(x_gauss[2] - x_gauss[3]))  \n",
    "            (2/3 + 2 * x_gauss[1]* x_gauss[2])/((x_gauss[3] - x_gauss[1])*(x_gauss[3] - x_gauss[2]))];\n"
   ]
  },
  {
   "cell_type": "code",
   "execution_count": 6,
   "id": "b96b60bb-7834-46b4-9e12-b5bc5b25fbbc",
   "metadata": {},
   "outputs": [
    {
     "name": "stdout",
     "output_type": "stream",
     "text": [
      "k = 0\n",
      "Gaussian error = 0\n",
      "k = 1\n",
      "Gaussian error = 0\n",
      "k = 2\n",
      "Gaussian error = 1.11022e-16\n",
      "k = 3\n",
      "Gaussian error = 1.11022e-16\n",
      "k = 4\n",
      "Gaussian error = 1.11022e-16\n",
      "k = 5\n",
      "Gaussian error = 1.11022e-16\n",
      "k = 6\n",
      "Gaussian error = 0.0457143\n"
     ]
    }
   ],
   "source": [
    "\n",
    "k_vals = 0:6\n",
    "for k in k_vals\n",
    "    f = x-> x^k;\n",
    "    ∫f_exact = (1^(k+1) - (-1)^(k+1))/(k+1);\n",
    "    ∫f_gauss=  c_gauss ⋅ f.(x_gauss);\n",
    "    @show k;\n",
    "    @printf(\"Gaussian error = %g\\n\", abs(∫f_exact - ∫f_gauss));\n",
    "end"
   ]
  },
  {
   "cell_type": "code",
   "execution_count": 7,
   "id": "78722b1f-8fa1-477b-ad26-c5190c9b7da6",
   "metadata": {},
   "outputs": [
    {
     "name": "stdout",
     "output_type": "stream",
     "text": [
      "Exact = 2.350402\n",
      "Gauss = 2.350337\n",
      "Trap  = 2.543081\n"
     ]
    }
   ],
   "source": [
    "f = x-> exp(x);\n",
    "∫f_gauss =  c_gauss ⋅ f.(x_gauss);\n",
    "∫f_trap  =  .5 * (f(-1)+ 2*f(0) + f(1));\n",
    "@printf(\"Exact = %.6f\\n\", exp(1)-exp(-1));\n",
    "@printf(\"Gauss = %.6f\\n\", ∫f_gauss);\n",
    "@printf(\"Trap  = %.6f\\n\", ∫f_trap);"
   ]
  },
  {
   "cell_type": "markdown",
   "id": "6d5a2c61-0bff-4f46-8cea-2eaf04ac3190",
   "metadata": {
    "tags": []
   },
   "source": [
    "## Integrating over a different interval\n",
    "To integrate over $[a,b]$ instead of $[-1,1]$, shift the nodes, $t_i \\in [-1,1]$, to be\n",
    "$$\n",
    "x_i = \\frac{1}{2}((b-a)t_i + a + b)\n",
    "$$\n",
    "then \n",
    "$$\n",
    "\\int_a^b f(x) dx =  \\sum_{i=1}^n d_i f(x_i)\n",
    "$$\n",
    "with $d_i  = \\frac{b-a}{2}  c_i$."
   ]
  },
  {
   "cell_type": "markdown",
   "id": "091a3c47-e878-466b-a73c-937838ac583d",
   "metadata": {},
   "source": [
    "Use this to compute\n",
    "$$\n",
    "\\int_0^\\pi \\sin(x)dx  =2 \n",
    "$$"
   ]
  },
  {
   "cell_type": "code",
   "execution_count": 8,
   "id": "344fe494-d8ae-4ef7-9718-6180225e95d3",
   "metadata": {},
   "outputs": [
    {
     "name": "stdout",
     "output_type": "stream",
     "text": [
      "Exact = 2\n",
      "Gauss = 2.00139\n",
      "Trap  = 1.5708\n"
     ]
    }
   ],
   "source": [
    "P3 = Polynomial([0, -3/5, 0, 1]); # Third Legendre polynomial found in a table, x³ - 3/5 x\n",
    "t_gauss = sort(roots(P3));\n",
    "a = 0;\n",
    "b = π;\n",
    "\n",
    "# shift and scale the Gauss points\n",
    "x_gauss = @. 0.5 * ((b-a) * t_gauss + a + b);\n",
    "# these were found analytically\n",
    "c_gauss = [ (2/3 + 2 * t_gauss[2]* t_gauss[3])/((t_gauss[1] - t_gauss[2])*(t_gauss[1] - t_gauss[3]))\n",
    "            (2/3 + 2 * t_gauss[1]* t_gauss[3])/((t_gauss[2] - t_gauss[1])*(t_gauss[2] - t_gauss[3]))  \n",
    "            (2/3 + 2 * t_gauss[1]* t_gauss[2])/((t_gauss[3] - t_gauss[1])*(t_gauss[3] - t_gauss[2]))];\n",
    "# scale the weights\n",
    "d_gauss =  0.5 * (b-a) *c_gauss;\n",
    "f = x-> sin(x);\n",
    "\n",
    "∫f_gauss = d_gauss ⋅ sin.(x_gauss);\n",
    "∫f_exact = 2;\n",
    "∫f_trap = 0.5 * (π/2) * (sin(0) + 2*sin(π/2) + sin(π));\n",
    "\n",
    "@printf(\"Exact = %g\\n\", ∫f_exact);\n",
    "@printf(\"Gauss = %g\\n\", ∫f_gauss);\n",
    "@printf(\"Trap  = %g\\n\", ∫f_trap);"
   ]
  },
  {
   "cell_type": "code",
   "execution_count": null,
   "id": "90c49c0d-82cc-4293-a516-825db2548d9b",
   "metadata": {},
   "outputs": [],
   "source": []
  }
 ],
 "metadata": {
  "kernelspec": {
   "display_name": "Julia 1.8.1",
   "language": "julia",
   "name": "julia-1.8"
  },
  "language_info": {
   "file_extension": ".jl",
   "mimetype": "application/julia",
   "name": "julia",
   "version": "1.8.1"
  }
 },
 "nbformat": 4,
 "nbformat_minor": 5
}
