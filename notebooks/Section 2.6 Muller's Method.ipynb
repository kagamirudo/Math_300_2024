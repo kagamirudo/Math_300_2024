{
 "cells": [
  {
   "cell_type": "markdown",
   "id": "d5b9bce4-3cda-486d-830e-160d57debf5a",
   "metadata": {},
   "source": [
    "# Muller's Method for Complex Roots"
   ]
  },
  {
   "cell_type": "code",
   "execution_count": 1,
   "id": "e12e8e5a-eaab-4991-84aa-072031c5d638",
   "metadata": {},
   "outputs": [],
   "source": [
    "using Printf"
   ]
  },
  {
   "cell_type": "code",
   "execution_count": 2,
   "id": "ac081d6e-7ec8-4994-b910-058dfdeeec2a",
   "metadata": {},
   "outputs": [
    {
     "data": {
      "text/plain": [
       "newton (generic function with 1 method)"
      ]
     },
     "execution_count": 2,
     "metadata": {},
     "output_type": "execute_result"
    }
   ],
   "source": [
    "function newton(f, df, p0, n_max, rel_tol; verbose = true)\n",
    "    \n",
    "    converged = false;\n",
    "    p = p0;\n",
    "    p_old = p0;\n",
    "\n",
    "    for i in 1:n_max\n",
    "\n",
    "        p = p_old - f(p_old)/df(p_old);\n",
    "        \n",
    "        if verbose\n",
    "            @printf(\" %d: p = %.15g + i %.15g, |f(p)| = %g\\n\", i, real(p), imag(p), abs(f(p)));\n",
    "        end\n",
    "\n",
    "        \n",
    "        if (i>1)\n",
    "            if abs(p-p_old)/abs(p)< rel_tol\n",
    "                converged = true;\n",
    "                break\n",
    "            end\n",
    "        end\n",
    "\n",
    "        p_old = p;\n",
    "\n",
    "    end\n",
    "    \n",
    "    if !converged\n",
    "        @printf(\"ERROR: Did not converge after %d iterations\\n\", n_max);\n",
    "    end\n",
    "\n",
    "    return p\n",
    "    \n",
    "end"
   ]
  },
  {
   "cell_type": "code",
   "execution_count": 3,
   "id": "2f8727f3-417e-432c-b5e5-3bef53dee5aa",
   "metadata": {},
   "outputs": [
    {
     "data": {
      "text/plain": [
       "muller (generic function with 1 method)"
      ]
     },
     "execution_count": 3,
     "metadata": {},
     "output_type": "execute_result"
    }
   ],
   "source": [
    "function muller(f, p0, p1, p2, n_max, rel_tol; verbose = true)\n",
    "    \n",
    "    converged = false;\n",
    "    p = p2;\n",
    "\n",
    "    for i in 1:n_max\n",
    "\n",
    "        # solve for the constants a, b, and c\n",
    "        c = f(p2);\n",
    "        A = [(p0-p2)^2 p0-p2; (p1-p2)^2 p1-p2 ];\n",
    "        x = A\\[f(p0)-c; f(p1)-c];\n",
    "        a = x[1];\n",
    "        b = x[2];\n",
    "        \n",
    "        # take the root with larger denominator\n",
    "        if abs(b + sqrt(b^2-4*a*c))> abs(b - sqrt(b^2-4*a*c))\n",
    "            p = p2 - 2*c/(b + sqrt(b^2-4*a*c));\n",
    "        else\n",
    "            p = p2 - 2*c/(b - sqrt(b^2-4*a*c));            \n",
    "        end\n",
    "        \n",
    "        if verbose\n",
    "            @printf(\" %d: p = %.15g + i %.15g, |f(p)| = %g\\n\", i, \n",
    "                real(p), imag(p), abs(f(p)));\n",
    "        end\n",
    "\n",
    "        \n",
    "        if (i>1)\n",
    "            if abs(p-p2)/abs(p)< rel_tol\n",
    "                converged = true;\n",
    "                break\n",
    "            end\n",
    "        end\n",
    "\n",
    "        # update entries\n",
    "        p0 = p1;\n",
    "        p1 = p2;\n",
    "        p2 = p;\n",
    "\n",
    "    end\n",
    "    \n",
    "    if !converged\n",
    "        @printf(\"ERROR: Did not converge after %d iterations\\n\", n_max);\n",
    "    end\n",
    "\n",
    "    return p\n",
    "    \n",
    "end"
   ]
  },
  {
   "cell_type": "markdown",
   "id": "03b5a74a-49fb-49f6-9a39-041a93834928",
   "metadata": {},
   "source": [
    "## Example 1\n",
    "Find a complex root of\n",
    "$$\n",
    "x^3 -1\n",
    "$$"
   ]
  },
  {
   "cell_type": "code",
   "execution_count": 4,
   "id": "7954775d-0dbb-4454-a832-f6d82d9a7915",
   "metadata": {},
   "outputs": [
    {
     "name": "stdout",
     "output_type": "stream",
     "text": [
      " 1: p = 1.37333333333333 + i 0.613333333333333, |f(p)| = 3.23985\n",
      " 2: p = 1.01389931677309 + i 0.299162587075942, |f(p)| = 0.924877\n",
      " 3: p = 0.926441509982898 + i 0.0375131475145922, |f(p)| = 0.229994\n",
      " 4: p = 1.00408998016856 + i -0.00633962772222638, |f(p)| = 0.0227262\n",
      " 5: p = 0.999977099777642 + i -5.17694257794986e-05, |f(p)| = 0.000169821\n",
      " 6: p = 0.999999997844117 + i 2.37098630760993e-09, |f(p)| = 9.61377e-09\n",
      " 7: p = 1 + i -1.02231371846618e-17, |f(p)| = 3.06694e-17\n",
      " 8: p = 1 + i 0, |f(p)| = 0\n"
     ]
    }
   ],
   "source": [
    "f = x-> x^3 - 1;\n",
    "df = x->3*x^2;\n",
    "# p0 = 0. + 1. *im;\n",
    "p0 =  2. + 1. *im;\n",
    "rel_tol = 1e-12;\n",
    "n_max = 100;\n",
    "\n",
    "p = newton(f, df, p0, n_max, rel_tol);"
   ]
  },
  {
   "cell_type": "code",
   "execution_count": 5,
   "id": "00610991-fa87-4b02-9944-009eebc24249",
   "metadata": {},
   "outputs": [
    {
     "data": {
      "text/plain": [
       "-0.5 + 0.8660254037844386im"
      ]
     },
     "execution_count": 5,
     "metadata": {},
     "output_type": "execute_result"
    }
   ],
   "source": [
    "(-1 + sqrt(3)*im)/2"
   ]
  },
  {
   "cell_type": "code",
   "execution_count": 6,
   "id": "9b523377-c5b6-4358-9c70-8b8688a16d6b",
   "metadata": {},
   "outputs": [
    {
     "name": "stdout",
     "output_type": "stream",
     "text": [
      " 1: p = 2.2373214155323 + i 0.323201044707238, |f(p)| = 10.6509\n",
      " 2: p = 1.19193095617479 + i 0.0647295931872203, |f(p)| = 0.732243\n",
      " 3: p = 0.974508683144976 + i -0.0558757204889687, |f(p)| = 0.179684\n",
      " 4: p = 0.999076789011856 + i 0.00562180118748211, |f(p)| = 0.0170756\n",
      " 5: p = 0.999976424717367 + i -1.3268075834379e-06, |f(p)| = 7.08361e-05\n",
      " 6: p = 1.0000000026943 + i -5.71601822040018e-10, |f(p)| = 8.26279e-09\n",
      " 7: p = 1 + i 1.23499056933529e-16, |f(p)| = 3.70497e-16\n"
     ]
    }
   ],
   "source": [
    "f = x-> x^3 - 1;\n",
    "# p0 = -1. + 1*im; # finds a complex root\n",
    "# p1 = 0. + 1*im; \n",
    "# p2 = 0. + 2*im;\n",
    "p0 = -2.0 + 0 * im; # finds a real root\n",
    "p1 = -1.0 + 0 * im;\n",
    "p2 = 1.5 + 0.1 * im;\n",
    "\n",
    "rel_tol = 1e-8;\n",
    "n_max = 100;\n",
    "\n",
    "p = muller(f, p0, p1, p2, n_max, rel_tol);"
   ]
  },
  {
   "cell_type": "code",
   "execution_count": 7,
   "id": "c1892c00",
   "metadata": {},
   "outputs": [
    {
     "data": {
      "text/plain": [
       "1.0 + 1.2349905693352875e-16im"
      ]
     },
     "execution_count": 7,
     "metadata": {},
     "output_type": "execute_result"
    }
   ],
   "source": [
    "p"
   ]
  },
  {
   "cell_type": "markdown",
   "id": "58807ea9-3528-45a8-9738-5c33235ecb5f",
   "metadata": {},
   "source": [
    "## Example 2\n",
    "Find a complex root of\n",
    "$$\n",
    "x^4 - 3x^3+x^2+x+1\n",
    "$$"
   ]
  },
  {
   "cell_type": "code",
   "execution_count": 8,
   "id": "d2f037ad-06b5-4202-a49e-347efc71d8a5",
   "metadata": {},
   "outputs": [
    {
     "name": "stdout",
     "output_type": "stream",
     "text": [
      " 1: p = -0.1 + i -0.888819441731559, |f(p)| = 3.0149\n",
      " 2: p = -0.492145709919326 + i -0.447030699986424, |f(p)| = 0.755895\n",
      " 3: p = -0.352225712600533 + i -0.484132444158732, |f(p)| = 0.179524\n",
      " 4: p = -0.340228570467913 + i -0.443035627380129, |f(p)| = 0.0159643\n",
      " 5: p = -0.339094678815107 + i -0.446656488995306, |f(p)| = 0.000112451\n",
      " 6: p = -0.339092833384029 + i -0.446630100557242, |f(p)| = 1.876e-08\n",
      " 7: p = -0.33909283776171 + i -0.446630099997517, |f(p)| = 2.16209e-15\n"
     ]
    }
   ],
   "source": [
    "f = x-> x^4-3*x^3 +x^2 +x + 1;\n",
    "p0 = 0.5 + 0*im;\n",
    "p1 = -0.5 + 0*im;\n",
    "p2 = 0.0 + 0*im;\n",
    "\n",
    "rel_tol = 1e-8;\n",
    "n_max = 100;\n",
    "\n",
    "p = muller(f, p0, p1, p2, n_max, rel_tol);"
   ]
  }
 ],
 "metadata": {
  "kernelspec": {
   "display_name": "Julia 1.8.1",
   "language": "julia",
   "name": "julia-1.8"
  },
  "language_info": {
   "file_extension": ".jl",
   "mimetype": "application/julia",
   "name": "julia",
   "version": "1.8.1"
  }
 },
 "nbformat": 4,
 "nbformat_minor": 5
}
