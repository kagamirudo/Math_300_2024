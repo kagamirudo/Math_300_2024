{
 "cells": [
  {
   "cell_type": "markdown",
   "metadata": {},
   "source": [
    "# Numerical Inverses by Interpolation\n",
    "This notebook shows how to numerically compute $f^{-1}$ via interpolation.  The idea is that given $f(x)$ and some number of $x_i$, let $y_i = f(x_i)$, and then construct an interpolant of $\\{(y_i,x_i)\\}$, where we have reverse the order of the data.  This interpolant is an approximation of $f^{-1}$.  The approximation can be improved by increasing the number of $x_i$ points.\n",
    "\n",
    "This demonstration uses the `Dierckx.jl` package, instead of `Interpolations.jl`."
   ]
  },
  {
   "cell_type": "code",
   "execution_count": 1,
   "metadata": {},
   "outputs": [],
   "source": [
    "using Plots\n",
    "using Dierckx"
   ]
  },
  {
   "cell_type": "code",
   "execution_count": null,
   "metadata": {},
   "outputs": [],
   "source": [
    "default(lw=2, markersize=6,\n",
    "    xtickfont=font(12), ytickfont=font(12),\n",
    "    guidefont=font(14), legendfont=font(12), titlefont=font(12))"
   ]
  },
  {
   "cell_type": "markdown",
   "metadata": {},
   "source": [
    "# Example\n",
    "$$\n",
    "f(x) = x\\ln(x) -x + 1\n",
    "$$"
   ]
  },
  {
   "cell_type": "code",
   "execution_count": null,
   "metadata": {},
   "outputs": [],
   "source": [
    "x = LinRange(1, 5, 500);\n",
    "f(x) = x* log(x) - x +1;\n",
    "plot(x, f.(x))"
   ]
  },
  {
   "cell_type": "markdown",
   "metadata": {},
   "source": [
    "This is monotone, so we can invert it (in theory)."
   ]
  },
  {
   "cell_type": "code",
   "execution_count": null,
   "metadata": {},
   "outputs": [],
   "source": [
    "y = f.(x); # create (x,y) pairs\n",
    "finv_cspl = Spline1D(y, x);\n"
   ]
  },
  {
   "cell_type": "code",
   "execution_count": null,
   "metadata": {},
   "outputs": [],
   "source": [
    "yy = LinRange(0,4,100);\n",
    "plot(yy, finv_cspl.(yy))"
   ]
  },
  {
   "cell_type": "code",
   "execution_count": null,
   "metadata": {},
   "outputs": [],
   "source": []
  }
 ],
 "metadata": {
  "kernelspec": {
   "display_name": "Julia 1.11.1",
   "language": "julia",
   "name": "julia-1.11"
  },
  "language_info": {
   "file_extension": ".jl",
   "mimetype": "application/julia",
   "name": "julia",
   "version": "1.11.1"
  }
 },
 "nbformat": 4,
 "nbformat_minor": 2
}
