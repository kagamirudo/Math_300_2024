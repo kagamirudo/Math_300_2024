{
 "cells": [
  {
   "cell_type": "markdown",
   "metadata": {},
   "source": [
    "# Homework 01\n",
    "\n",
    "Name: Gary Pham - gp492\n",
    "\n",
    "Course: MATH 300 FA 24-25\n",
    "\n",
    "Date: Oct 11 2024"
   ]
  },
  {
   "cell_type": "code",
   "execution_count": 38,
   "metadata": {},
   "outputs": [],
   "source": [
    "using Plots\n",
    "using Printf\n",
    "using LaTeXStrings"
   ]
  },
  {
   "cell_type": "code",
   "execution_count": 39,
   "metadata": {},
   "outputs": [],
   "source": [
    "default(lw=2, markersize=6,\n",
    "    xtickfont=font(12), ytickfont=font(12),\n",
    "    guidefont=font(14), legendfont=font(12), titlefont=font(12))"
   ]
  },
  {
   "cell_type": "code",
   "execution_count": 40,
   "metadata": {},
   "outputs": [
    {
     "data": {
      "text/plain": [
       "bisection (generic function with 1 method)"
      ]
     },
     "metadata": {},
     "output_type": "display_data"
    }
   ],
   "source": [
    "function bisection(f, a, b, n_max, tol; verbose=true)\n",
    "\n",
    "    p = 0\n",
    "    converged = false\n",
    "    error = 0\n",
    "    for i in 1:n_max\n",
    "\n",
    "        p = 0.5 * (a + b) # compute the midpoint \n",
    "\n",
    "        # print current iterate information to screen \n",
    "        if verbose\n",
    "            @printf(\"%3d: a = %.4f, b = %.4f, p = %.4f, f(a)f(p) = %7.4f, |f(p)| = %.4g\\t\",\n",
    "                i, a, b, p, f(a) * f(p), abs(f(p)))\n",
    "        end\n",
    "\n",
    "        # determine if the root is in the left or right interval\n",
    "        if (f(a) * f(p) <= 0)\n",
    "            b = p # root is interval [a,p]\n",
    "        else\n",
    "            a = p # root is in interval [p,b]\n",
    "        end\n",
    "        if (abs(f(p)) == 0)\n",
    "            converged = true\n",
    "            break\n",
    "        end\n",
    "\n",
    "        # test for convergence\n",
    "        error = 0.5 * (b - a)\n",
    "        @printf(\"|error = %.4f|\\n\", error)\n",
    "        if error < tol\n",
    "            converged = true\n",
    "            break\n",
    "        end\n",
    "    end\n",
    "\n",
    "    if !converged\n",
    "        @printf(\"ERROR: Did not converge after %d iterations\\n\", n_max)\n",
    "    end\n",
    "\n",
    "    return p # return midpoint guess\n",
    "\n",
    "end"
   ]
  },
  {
   "cell_type": "code",
   "execution_count": 41,
   "metadata": {},
   "outputs": [
    {
     "data": {
      "text/plain": [
       "fixed_point_iteration (generic function with 1 method)"
      ]
     },
     "metadata": {},
     "output_type": "display_data"
    }
   ],
   "source": [
    "function fixed_point_iteration(g, p, n_max, rel_tol; verbose=true)\n",
    "    p_old = p\n",
    "    for i in 1:n_max\n",
    "        p = g(p)\n",
    "        @printf(\"%3d: p = %.12f\\n\", i, p)\n",
    "        if (i > 1)\n",
    "            if abs(p_old - p) / abs(p) < rel_tol\n",
    "                break\n",
    "            end\n",
    "        end\n",
    "        p_old = p\n",
    "    end\n",
    "\n",
    "    return p\n",
    "\n",
    "end"
   ]
  },
  {
   "cell_type": "markdown",
   "metadata": {},
   "source": [
    "## Section 2.1"
   ]
  },
  {
   "cell_type": "markdown",
   "metadata": {},
   "source": [
    "### Ex 3.c"
   ]
  },
  {
   "cell_type": "markdown",
   "metadata": {},
   "source": [
    "Use the Bisection method to find solutions accurate to within\n",
    "$f(x) = x^3 - 7x^2 + 14x - 6$ on $[3.2, 4]$."
   ]
  },
  {
   "cell_type": "code",
   "execution_count": 42,
   "metadata": {},
   "outputs": [
    {
     "name": "stdout",
     "output_type": "stream",
     "text": [
      "  1: a = 3.2000, b = 4.0000, p = 3.6000, f(a)f(p) = -0.0376, |f(p)| = 0.336\t|error = 0.2000|\n",
      "  2: a = 3.2000, b = 3.6000, p = 3.4000, f(a)f(p) =  0.0018, |f(p)| = 0.016\t|error = 0.1000|\n",
      "  3: a = 3.4000, b = 3.6000, p = 3.5000, f(a)f(p) = -0.0020, |f(p)| = 0.125\t|error = 0.0500|\n",
      "  4: a = 3.4000, b = 3.5000, p = 3.4500, f(a)f(p) = -0.0007, |f(p)| = 0.04613\t|error = 0.0250|\n",
      "  5: a = 3.4000, b = 3.4500, p = 3.4250, f(a)f(p) = -0.0002, |f(p)| = 0.01302\t|error = 0.0125|\n",
      "  6: a = 3.4000, b = 3.4250, p = 3.4125, f(a)f(p) =  0.0000, |f(p)| = 0.001998\t|error = 0.0062|\n"
     ]
    },
    {
     "data": {
      "text/plain": [
       "3.4125000000000005"
      ]
     },
     "metadata": {},
     "output_type": "display_data"
    }
   ],
   "source": [
    "# code\n",
    "f(x) = x^3 - 7x^2 + 14x - 6\n",
    "a = 3.2\n",
    "b = 4.0\n",
    "n_max = 100\n",
    "tol = 1e-2\n",
    "bisection(f, a, b, n_max, tol)"
   ]
  },
  {
   "cell_type": "markdown",
   "metadata": {},
   "source": [
    "### Ex 14\n"
   ]
  },
  {
   "cell_type": "markdown",
   "metadata": {},
   "source": [
    "Find an approximation to $\\sqrt{3}$ correct to within $10^{-4}$ using the Bisection Algorithm.\n",
    "\n",
    "[Hint: Consider $f(x) = x^2 - 3$]."
   ]
  },
  {
   "cell_type": "code",
   "execution_count": 43,
   "metadata": {},
   "outputs": [
    {
     "name": "stdout",
     "output_type": "stream",
     "text": [
      "  1: a = 1.0000, b = 2.0000, p = 1.5000, f(a)f(p) =  1.5000, |f(p)| = 0.75\t|error = 0.2500|\n",
      "  2: a = 1.5000, b = 2.0000, p = 1.7500, f(a)f(p) = -0.0469, |f(p)| = 0.0625\t|error = 0.1250|\n",
      "  3: a = 1.5000, b = 1.7500, p = 1.6250, f(a)f(p) =  0.2695, |f(p)| = 0.3594\t|error = 0.0625|\n",
      "  4: a = 1.6250, b = 1.7500, p = 1.6875, f(a)f(p) =  0.0547, |f(p)| = 0.1523\t|error = 0.0312|\n",
      "  5: a = 1.6875, b = 1.7500, p = 1.7188, f(a)f(p) =  0.0070, |f(p)| = 0.0459\t|error = 0.0156|\n",
      "  6: a = 1.7188, b = 1.7500, p = 1.7344, f(a)f(p) = -0.0004, |f(p)| = 0.008057\t|error = 0.0078|\n",
      "  7: a = 1.7188, b = 1.7344, p = 1.7266, f(a)f(p) =  0.0009, |f(p)| = 0.01898\t|error = 0.0039|\n",
      "  8: a = 1.7266, b = 1.7344, p = 1.7305, f(a)f(p) =  0.0001, |f(p)| = 0.005478\t|error = 0.0020|\n",
      "  9: a = 1.7305, b = 1.7344, p = 1.7324, f(a)f(p) = -0.0000, |f(p)| = 0.001286\t|error = 0.0010|\n",
      " 10: a = 1.7305, b = 1.7324, p = 1.7314, f(a)f(p) =  0.0000, |f(p)| = 0.002097\t|error = 0.0005|\n",
      " 11: a = 1.7314, b = 1.7324, p = 1.7319, f(a)f(p) =  0.0000, |f(p)| = 0.000406\t|error = 0.0002|\n",
      " 12: a = 1.7319, b = 1.7324, p = 1.7322, f(a)f(p) = -0.0000, |f(p)| = 0.0004397\t|error = 0.0001|\n",
      " 13: a = 1.7319, b = 1.7322, p = 1.7321, f(a)f(p) = -0.0000, |f(p)| = 1.682e-05\t|error = 0.0001|\n"
     ]
    },
    {
     "data": {
      "text/plain": [
       "1.7320556640625"
      ]
     },
     "metadata": {},
     "output_type": "display_data"
    }
   ],
   "source": [
    "# code \n",
    "f(x) = x^2 - 3\n",
    "a = 1\n",
    "b = 2\n",
    "tol = 1e-4\n",
    "n_max = 100\n",
    "bisection(f, a, b, n_max, tol)"
   ]
  },
  {
   "cell_type": "markdown",
   "metadata": {},
   "source": [
    "## Section 2.2\n"
   ]
  },
  {
   "cell_type": "markdown",
   "metadata": {},
   "source": [
    "### Ex 1\n"
   ]
  },
  {
   "cell_type": "markdown",
   "metadata": {},
   "source": [
    "Use algebraic manipulation to show that each of the following functions has a fixed point at $p$ precisely when $f(p) = 0, \\text{ where } f (x) = x^4 + 2x^2 − x − 3$.\n",
    "\n",
    "- $g_1(x) = (3 + x - 2x^2)^{\\frac{1}{4}}$\n",
    "\n",
    "- $g_2(x) = \\left(\\frac{x + 3 - x^4}{2}\\right)^{\\frac{1}{2}}$\n",
    "\n",
    "- $g_3(x) = \\left(\\frac{x + 3}{x^2 + 2}\\right)^{\\frac{1}{2}}$\n",
    "\n",
    "- $g_4(x) = \\frac{3x^4 + 2x^2 + 3}{4x^3 + 4x - 1}$"
   ]
  },
  {
   "cell_type": "markdown",
   "metadata": {},
   "source": [
    "### Ex 8"
   ]
  },
  {
   "cell_type": "markdown",
   "metadata": {},
   "source": [
    "Use a fixed-point iteration method to determine a solution accurate to within $10^{-2}$ for $x^3 - x - 1 =0$ on $[1, 2]$. Use $p_0 = 1$"
   ]
  },
  {
   "cell_type": "code",
   "execution_count": 44,
   "metadata": {},
   "outputs": [
    {
     "name": "stdout",
     "output_type": "stream",
     "text": [
      "  1: p = -1.000000000000\n",
      "  2: p = -1.000000000000\n"
     ]
    },
    {
     "data": {
      "text/plain": [
       "-1"
      ]
     },
     "metadata": {},
     "output_type": "display_data"
    }
   ],
   "source": [
    "# code\n",
    "g(x) = x^3 - x - 1\n",
    "p0 = 1\n",
    "tol = 1e-2\n",
    "n_max = 100\n",
    "p = fixed_point_iteration(g, p0, n_max, tol)"
   ]
  }
 ],
 "metadata": {
  "kernelspec": {
   "display_name": "Julia 1.8.1",
   "language": "julia",
   "name": "julia-1.8"
  },
  "language_info": {
   "file_extension": ".jl",
   "mimetype": "application/julia",
   "name": "julia",
   "version": "1.8.1"
  },
  "toc": {
   "base_numbering": 1,
   "nav_menu": {},
   "number_sections": true,
   "sideBar": true,
   "skip_h1_title": false,
   "title_cell": "Table of Contents",
   "title_sidebar": "Contents",
   "toc_cell": false,
   "toc_position": {},
   "toc_section_display": true,
   "toc_window_display": false
  }
 },
 "nbformat": 4,
 "nbformat_minor": 4
}
