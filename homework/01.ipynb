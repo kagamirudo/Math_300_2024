{
 "cells": [
  {
   "cell_type": "markdown",
   "metadata": {},
   "source": [
    "# Homework 01\n",
    "\n",
    "Name: Gary Pham - gp492\n",
    "\n",
    "Course: MATH 300 FA 24-25\n",
    "\n",
    "Date: Oct 11 2024"
   ]
  },
  {
   "cell_type": "code",
   "execution_count": 104,
   "metadata": {},
   "outputs": [],
   "source": [
    "using Plots\n",
    "using Printf\n",
    "using LaTeXStrings"
   ]
  },
  {
   "cell_type": "code",
   "execution_count": 105,
   "metadata": {},
   "outputs": [],
   "source": [
    "default(lw=2, markersize=6,\n",
    "    xtickfont=font(12), ytickfont=font(12),\n",
    "    guidefont=font(14), legendfont=font(12), titlefont=font(12))"
   ]
  },
  {
   "cell_type": "code",
   "execution_count": 106,
   "metadata": {},
   "outputs": [
    {
     "data": {
      "text/plain": [
       "bisection (generic function with 1 method)"
      ]
     },
     "metadata": {},
     "output_type": "display_data"
    }
   ],
   "source": [
    "function bisection(f, a, b, n_max, tol; verbose=true)\n",
    "\n",
    "    p = 0\n",
    "    converged = false\n",
    "    error = 0\n",
    "    for i in 1:n_max\n",
    "\n",
    "        p = 0.5 * (a + b) # compute the midpoint \n",
    "\n",
    "        # print current iterate information to screen \n",
    "        if verbose\n",
    "            @printf(\"%3d: a = %.4f, b = %.4f, p = %.4f, f(a)f(p) = %7.4f, f(a)= %7.4f, f(p) = %7.4f \",\n",
    "                i, a, b, p, f(a) * f(p), f(a), f(p))\n",
    "        end\n",
    "\n",
    "        # determine if the root is in the left or right interval\n",
    "        if (f(a) * f(p) <= 0)\n",
    "            b = p # root is interval [a,p]\n",
    "        else\n",
    "            a = p # root is in interval [p,b]\n",
    "        end\n",
    "        if (abs(f(p)) == 0)\n",
    "            converged = true\n",
    "            break\n",
    "        end\n",
    "\n",
    "        # test for convergence\n",
    "        error = 0.5 * (b - a)\n",
    "        @printf(\"|diff = %.5f|\\n\", error)\n",
    "        if error < tol\n",
    "            converged = true\n",
    "            break\n",
    "        end\n",
    "    end\n",
    "\n",
    "    if !converged\n",
    "        @printf(\"ERROR: Did not converge after %d iterations\\n\", n_max)\n",
    "    end\n",
    "\n",
    "    return p # return midpoint guess\n",
    "\n",
    "end"
   ]
  },
  {
   "cell_type": "code",
   "execution_count": 107,
   "metadata": {},
   "outputs": [
    {
     "data": {
      "text/plain": [
       "fixed_point_iteration (generic function with 1 method)"
      ]
     },
     "metadata": {},
     "output_type": "display_data"
    }
   ],
   "source": [
    "function fixed_point_iteration(g, p, n_max, rel_tol; verbose=true)\n",
    "    p_old = p\n",
    "    for i in 1:n_max\n",
    "        p = g(p)\n",
    "        @printf(\"%3d: p = %.12f\\n\", i, p)\n",
    "        if (i > 1)\n",
    "            if abs(p_old - p) / abs(p) < rel_tol\n",
    "                break\n",
    "            end\n",
    "        end\n",
    "        p_old = p\n",
    "    end\n",
    "\n",
    "    return p\n",
    "\n",
    "end"
   ]
  },
  {
   "cell_type": "markdown",
   "metadata": {},
   "source": [
    "## Section 2.1"
   ]
  },
  {
   "cell_type": "markdown",
   "metadata": {},
   "source": [
    "### Ex 3.c"
   ]
  },
  {
   "cell_type": "markdown",
   "metadata": {},
   "source": [
    "Use the Bisection method to find solutions accurate to within\n",
    "$f(x) = x^3 - 7x^2 + 14x - 6$ on $[3.2, 4]$."
   ]
  },
  {
   "cell_type": "code",
   "execution_count": 108,
   "metadata": {},
   "outputs": [
    {
     "name": "stdout",
     "output_type": "stream",
     "text": [
      "  1: a = 3.2000, b = 4.0000, p = 3.6000, f(a)f(p) = -0.0376, f(a)= -0.1120, f(p) =  0.3360 |diff = 0.20000|\n",
      "  2: a = 3.2000, b = 3.6000, p = 3.4000, f(a)f(p) =  0.0018, f(a)= -0.1120, f(p) = -0.0160 |diff = 0.10000|\n",
      "  3: a = 3.4000, b = 3.6000, p = 3.5000, f(a)f(p) = -0.0020, f(a)= -0.0160, f(p) =  0.1250 |diff = 0.05000|\n",
      "  4: a = 3.4000, b = 3.5000, p = 3.4500, f(a)f(p) = -0.0007, f(a)= -0.0160, f(p) =  0.0461 |diff = 0.02500|\n",
      "  5: a = 3.4000, b = 3.4500, p = 3.4250, f(a)f(p) = -0.0002, f(a)= -0.0160, f(p) =  0.0130 |diff = 0.01250|\n",
      "  6: a = 3.4000, b = 3.4250, p = 3.4125, f(a)f(p) =  0.0000, f(a)= -0.0160, f(p) = -0.0020 |diff = 0.00625|\n"
     ]
    },
    {
     "data": {
      "text/plain": [
       "3.4125000000000005"
      ]
     },
     "metadata": {},
     "output_type": "display_data"
    }
   ],
   "source": [
    "# code\n",
    "f(x) = x^3 - 7x^2 + 14x - 6\n",
    "a = 3.2\n",
    "b = 4.0\n",
    "n_max = 100\n",
    "tol = 1e-2\n",
    "bisection(f, a, b, n_max, tol)"
   ]
  },
  {
   "cell_type": "markdown",
   "metadata": {},
   "source": [
    "### Ex 14\n"
   ]
  },
  {
   "cell_type": "markdown",
   "metadata": {},
   "source": [
    "Find an approximation to $\\sqrt{3}$ correct to within $10^{-4}$ using the Bisection Algorithm.\n",
    "\n",
    "[Hint: Consider $f(x) = x^2 - 3$]."
   ]
  },
  {
   "cell_type": "code",
   "execution_count": 109,
   "metadata": {},
   "outputs": [
    {
     "name": "stdout",
     "output_type": "stream",
     "text": [
      "  1: a = 1.0000, b = 2.0000, p = 1.5000, f(a)f(p) =  1.5000, f(a)= -2.0000, f(p) = -0.7500 |diff = 0.25000|\n",
      "  2: a = 1.5000, b = 2.0000, p = 1.7500, f(a)f(p) = -0.0469, f(a)= -0.7500, f(p) =  0.0625 |diff = 0.12500|\n",
      "  3: a = 1.5000, b = 1.7500, p = 1.6250, f(a)f(p) =  0.2695, f(a)= -0.7500, f(p) = -0.3594 |diff = 0.06250|\n",
      "  4: a = 1.6250, b = 1.7500, p = 1.6875, f(a)f(p) =  0.0547, f(a)= -0.3594, f(p) = -0.1523 |diff = 0.03125|\n",
      "  5: a = 1.6875, b = 1.7500, p = 1.7188, f(a)f(p) =  0.0070, f(a)= -0.1523, f(p) = -0.0459 |diff = 0.01562|\n",
      "  6: a = 1.7188, b = 1.7500, p = 1.7344, f(a)f(p) = -0.0004, f(a)= -0.0459, f(p) =  0.0081 |diff = 0.00781|\n",
      "  7: a = 1.7188, b = 1.7344, p = 1.7266, f(a)f(p) =  0.0009, f(a)= -0.0459, f(p) = -0.0190 |diff = 0.00391|\n",
      "  8: a = 1.7266, b = 1.7344, p = 1.7305, f(a)f(p) =  0.0001, f(a)= -0.0190, f(p) = -0.0055 |diff = 0.00195|\n",
      "  9: a = 1.7305, b = 1.7344, p = 1.7324, f(a)f(p) = -0.0000, f(a)= -0.0055, f(p) =  0.0013 |diff = 0.00098|\n",
      " 10: a = 1.7305, b = 1.7324, p = 1.7314, f(a)f(p) =  0.0000, f(a)= -0.0055, f(p) = -0.0021 |diff = 0.00049|\n",
      " 11: a = 1.7314, b = 1.7324, p = 1.7319, f(a)f(p) =  0.0000, f(a)= -0.0021, f(p) = -0.0004 |diff = 0.00024|\n",
      " 12: a = 1.7319, b = 1.7324, p = 1.7322, f(a)f(p) = -0.0000, f(a)= -0.0004, f(p) =  0.0004 |diff = 0.00012|\n",
      " 13: a = 1.7319, b = 1.7322, p = 1.7321, f(a)f(p) = -0.0000, f(a)= -0.0004, f(p) =  0.0000 |diff = 0.00006|\n",
      "\n",
      "bisection = 1.732056\n",
      "√3\t  = 1.732051"
     ]
    }
   ],
   "source": [
    "# code \n",
    "f(x) = x^2 - 3\n",
    "a = 1\n",
    "b = 2\n",
    "tol = 1e-4\n",
    "n_max = 100\n",
    "@printf(\"\\nbisection = %.6f\\n√3\\t  = %.6f\", bisection(f, a, b, n_max, tol), sqrt(3))\n"
   ]
  },
  {
   "cell_type": "markdown",
   "metadata": {},
   "source": [
    "## Section 2.2\n"
   ]
  },
  {
   "cell_type": "markdown",
   "metadata": {},
   "source": [
    "### Ex 1\n"
   ]
  },
  {
   "cell_type": "markdown",
   "metadata": {},
   "source": [
    "Use algebraic manipulation to show that each of the following functions has a fixed point at $p$ precisely when $f(p) = 0, \\text{ where } f (x) = x^4 + 2x^2 − x − 3$.\n",
    "\n",
    "- $g_1(x) = (3 + x - 2x^2)^{\\frac{1}{4}}$\n",
    "\n",
    "- $g_2(x) = \\left(\\frac{x + 3 - x^4}{2}\\right)^{\\frac{1}{2}}$\n",
    "\n",
    "- $g_3(x) = \\left(\\frac{x + 3}{x^2 + 2}\\right)^{\\frac{1}{2}}$\n",
    "\n",
    "- $g_4(x) = \\frac{3x^4 + 2x^2 + 3}{4x^3 + 4x - 1}$"
   ]
  },
  {
   "cell_type": "markdown",
   "metadata": {},
   "source": [
    "\n",
    "1. $g_1(x) = (3 + x - 2x^2)^{\\frac{1}{4}}$\n",
    "$$\n",
    "\\begin{split}\n",
    "    g_1(p) &= p\\\\\n",
    "    \\Rightarrow (3 + p - 2p^2)^{\\frac{1}{4}} &= p\\\\\n",
    "    \\Leftrightarrow 3 + p - 2p^2 &= p^4\\\\\n",
    "    \\Leftrightarrow p^4 + 2p^2 - p - 3 &= 0\\\\\n",
    "    \\Leftrightarrow f(p) &= 0\n",
    "\\end{split}\n",
    "$$\n",
    "---\n",
    "\n",
    "2. $g_2(x) = \\left(\\frac{x + 3 - x^4}{2}\\right)^{\\frac{1}{2}}$\n",
    "\n",
    "$$\n",
    "\\begin{split}\n",
    "    g_2(p) &= p\\\\\n",
    "    \\Rightarrow \\left(\\frac{p + 3 - p^4}{2}\\right)^{\\frac{1}{2}} &= p\\\\\n",
    "    \\Leftrightarrow \\frac{p + 3 - p^4}{2} &= p^2\\\\\n",
    "    \\Leftrightarrow p + 3 - p^4 &= 2p^2\\\\\n",
    "    \\Leftrightarrow p^4 + 2p^2 - p - 3 &= 0\\\\\n",
    "    \\Leftrightarrow f(p) &= 0\n",
    "\\end{split}\n",
    "$$\n",
    "---\n",
    "\n",
    "3. $g_3(x) = \\left(\\frac{x + 3}{x^2 + 2}\\right)^{\\frac{1}{2}}$\n",
    "\n",
    "$$\n",
    "\\begin{split}\n",
    "    g_3(p) &= p\\\\\n",
    "    \\Rightarrow \\left(\\frac{p + 3}{p^2 + 2}\\right)^{\\frac{1}{2}} &= p\\\\\n",
    "    \\Leftrightarrow \\frac{p + 3}{p^2 + 2} &= p^2\\\\\n",
    "    \\Leftrightarrow p + 3 &= p^2(p^2 + 2)\\\\\n",
    "    \\Leftrightarrow p + 3 &= p^4 + 2p^2\\\\\n",
    "    \\Leftrightarrow p^4 + 2p^2 - p - 3 &= 0\\\\\n",
    "    \\Leftrightarrow f(p) &= 0\n",
    "\\end{split}\n",
    "$$\n",
    "---\n",
    "\n",
    "4. $g_4(x) = \\frac{3x^4 + 2x^2 + 3}{4x^3 + 4x - 1}$\n",
    "\n",
    "$$\n",
    "\\begin{split}\n",
    "    g_4(p) &= p\\\\\n",
    "    \\Rightarrow \\frac{3p^4 + 2p^2 + 3}{4p^3 + 4p - 1} &= p\\\\\n",
    "    \\Leftrightarrow 3p^4 + 2p^2 + 3 &= 4p^4 + 4p^2 - p\\\\\n",
    "    \\Leftrightarrow 4p^4 - 3p^4 + 4p^2 - 2p^2 - p - 3 &= 0\\\\\n",
    "    \\Leftrightarrow p^4 + 2p^2 - p - 3 &= 0\\\\\n",
    "    \\Leftrightarrow f(p) &= 0\n",
    "\\end{split}\n",
    "$$\n",
    "---\n"
   ]
  },
  {
   "cell_type": "markdown",
   "metadata": {},
   "source": [
    "### Ex 8"
   ]
  },
  {
   "cell_type": "markdown",
   "metadata": {},
   "source": [
    "Use a fixed-point iteration method to determine a solution accurate to within $10^{-2}$ for $x^3 - x - 1 =0$ on $[1, 2]$. Use $p_0 = 1$"
   ]
  },
  {
   "cell_type": "code",
   "execution_count": 110,
   "metadata": {},
   "outputs": [
    {
     "name": "stdout",
     "output_type": "stream",
     "text": [
      "  1: p = -1.000000000000\n",
      "  2: p = -1.000000000000\n"
     ]
    },
    {
     "data": {
      "text/plain": [
       "-1"
      ]
     },
     "metadata": {},
     "output_type": "display_data"
    }
   ],
   "source": [
    "# code\n",
    "g(x) = x^3 - x - 1\n",
    "p0 = 1\n",
    "tol = 1e-2\n",
    "n_max = 100\n",
    "p = fixed_point_iteration(g, p0, n_max, tol)"
   ]
  }
 ],
 "metadata": {
  "kernelspec": {
   "display_name": "Julia 1.8.1",
   "language": "julia",
   "name": "julia-1.8"
  },
  "language_info": {
   "file_extension": ".jl",
   "mimetype": "application/julia",
   "name": "julia",
   "version": "1.8.1"
  },
  "toc": {
   "base_numbering": 1,
   "nav_menu": {},
   "number_sections": true,
   "sideBar": true,
   "skip_h1_title": false,
   "title_cell": "Table of Contents",
   "title_sidebar": "Contents",
   "toc_cell": false,
   "toc_position": {},
   "toc_section_display": true,
   "toc_window_display": false
  }
 },
 "nbformat": 4,
 "nbformat_minor": 4
}
