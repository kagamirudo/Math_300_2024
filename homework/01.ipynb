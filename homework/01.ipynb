{
 "cells": [
  {
   "cell_type": "markdown",
   "metadata": {},
   "source": [
    "# Homework 01\n",
    "\n",
    "Name: Gary Pham - gp492\n",
    "\n",
    "Course: MATH 300 FA 24-25\n",
    "\n",
    "Date: Oct 11 2024"
   ]
  },
  {
   "cell_type": "code",
   "execution_count": 5,
   "metadata": {},
   "outputs": [
    {
     "ename": "ArgumentError",
     "evalue": "ArgumentError: Package KaTex not found in current path.\n- Run `import Pkg; Pkg.add(\"KaTex\")` to install the KaTex package.",
     "output_type": "error",
     "traceback": [
      "ArgumentError: Package KaTex not found in current path.\n",
      "- Run `import Pkg; Pkg.add(\"KaTex\")` to install the KaTex package.\n",
      "\n",
      "Stacktrace:\n",
      "  [1] macro expansion\n",
      "    @ ./loading.jl:1163 [inlined]\n",
      "  [2] macro expansion\n",
      "    @ ./lock.jl:223 [inlined]\n",
      "  [3] require(into::Module, mod::Symbol)\n",
      "    @ Base ./loading.jl:1144\n",
      "  [4] eval\n",
      "    @ ./boot.jl:368 [inlined]\n",
      "  [5] include_string(mapexpr::typeof(REPL.softscope), mod::Module, code::String, filename::String)\n",
      "    @ Base ./loading.jl:1428\n",
      "  [6] #invokelatest#2\n",
      "    @ ./essentials.jl:729 [inlined]\n",
      "  [7] invokelatest\n",
      "    @ ./essentials.jl:726 [inlined]\n",
      "  [8] (::VSCodeServer.var\"#217#218\"{VSCodeServer.NotebookRunCellArguments, String})()\n",
      "    @ VSCodeServer ~/.vscode-server/extensions/julialang.language-julia-1.124.2/scripts/packages/VSCodeServer/src/serve_notebook.jl:24\n",
      "  [9] withpath(f::VSCodeServer.var\"#217#218\"{VSCodeServer.NotebookRunCellArguments, String}, path::String)\n",
      "    @ VSCodeServer ~/.vscode-server/extensions/julialang.language-julia-1.124.2/scripts/packages/VSCodeServer/src/repl.jl:276\n",
      " [10] notebook_runcell_request(conn::VSCodeServer.JSONRPC.JSONRPCEndpoint{Base.PipeEndpoint, Base.PipeEndpoint}, params::VSCodeServer.NotebookRunCellArguments)\n",
      "    @ VSCodeServer ~/.vscode-server/extensions/julialang.language-julia-1.124.2/scripts/packages/VSCodeServer/src/serve_notebook.jl:13\n",
      " [11] dispatch_msg(x::VSCodeServer.JSONRPC.JSONRPCEndpoint{Base.PipeEndpoint, Base.PipeEndpoint}, dispatcher::VSCodeServer.JSONRPC.MsgDispatcher, msg::Dict{String, Any})\n",
      "    @ VSCodeServer.JSONRPC ~/.vscode-server/extensions/julialang.language-julia-1.124.2/scripts/packages/JSONRPC/src/typed.jl:67\n",
      " [12] serve_notebook(pipename::String, debugger_pipename::String, outputchannel_logger::Base.CoreLogging.SimpleLogger; error_handler::var\"#5#10\"{String})\n",
      "    @ VSCodeServer ~/.vscode-server/extensions/julialang.language-julia-1.124.2/scripts/packages/VSCodeServer/src/serve_notebook.jl:147\n",
      " [13] top-level scope\n",
      "    @ ~/.vscode-server/extensions/julialang.language-julia-1.124.2/scripts/notebook/notebook.jl:35"
     ]
    }
   ],
   "source": [
    "using Plots\n",
    "using Printf\n",
    "using LaTeXStrings\n",
    "using KaTex"
   ]
  },
  {
   "cell_type": "code",
   "execution_count": 2,
   "metadata": {},
   "outputs": [],
   "source": [
    "default(lw=2, markersize=6,\n",
    "    xtickfont=font(12), ytickfont=font(12),\n",
    "    guidefont=font(14), legendfont=font(12), titlefont=font(12))"
   ]
  },
  {
   "cell_type": "code",
   "execution_count": 4,
   "metadata": {},
   "outputs": [
    {
     "data": {
      "text/plain": [
       "bisection (generic function with 1 method)"
      ]
     },
     "metadata": {},
     "output_type": "display_data"
    }
   ],
   "source": [
    "function bisection(f, a, b, n_max, tol; verbose = true)\n",
    "    \n",
    "    converged = false;\n",
    "    p = 0;\n",
    "    for i in 1:n_max\n",
    "\n",
    "        p = 0.5 * (a+b); # compute the midpoint \n",
    "        \n",
    "        # print current iterate information to screen \n",
    "        if verbose\n",
    "            @printf(\" %3d: a = %.8f, b = %.8f, p = %.8f, |f(p)|  = %g\\n\", i, a, b, p, abs(f(p)));\n",
    "        end\n",
    "\n",
    "        # determine if the root is in the left or right interval\n",
    "        if ( f(a) * f(p)<=0)\n",
    "            b = p; # root is interval [a,p]\n",
    "        else\n",
    "            a = p # root is in interval [p,b]\n",
    "        end\n",
    "        if(abs(f(p))==0)\n",
    "            converged = true;\n",
    "            break\n",
    "        end\n",
    "        \n",
    "        # test for convergence\n",
    "        if .5*(b-a)< tol\n",
    "            converged = true;\n",
    "            break\n",
    "        end\n",
    "    end\n",
    "    \n",
    "    if !converged\n",
    "        @printf(\"ERROR: Did not converge after %d iterations\\n\", n_max);\n",
    "    end\n",
    "\n",
    "    return p # return midpoint guess\n",
    "    \n",
    "end"
   ]
  },
  {
   "cell_type": "markdown",
   "metadata": {},
   "source": [
    "## Section 2.1"
   ]
  },
  {
   "cell_type": "markdown",
   "metadata": {},
   "source": [
    "### Ex 3.c"
   ]
  },
  {
   "cell_type": "markdown",
   "metadata": {},
   "source": [
    "Find a root of $f(x) = x^3 - 7x^2 + 14x - 6$ in $[3.2, 4]$."
   ]
  },
  {
   "cell_type": "code",
   "execution_count": 1,
   "metadata": {},
   "outputs": [],
   "source": [
    "# code"
   ]
  },
  {
   "cell_type": "markdown",
   "metadata": {},
   "source": [
    "### Ex 14\n"
   ]
  },
  {
   "cell_type": "markdown",
   "metadata": {},
   "source": [
    "Find an approximation to $\\sqrt{3}$ correct to within $10^{-4}$ using the Bisection Algorithm.\n",
    "\n",
    "[Hint: Consider $f(x) = x^2 - 3$]."
   ]
  },
  {
   "cell_type": "code",
   "execution_count": 3,
   "metadata": {},
   "outputs": [],
   "source": [
    "# code \n"
   ]
  },
  {
   "cell_type": "markdown",
   "metadata": {},
   "source": [
    "## Section 2.2\n"
   ]
  },
  {
   "cell_type": "markdown",
   "metadata": {},
   "source": [
    "### Ex 1\n"
   ]
  },
  {
   "cell_type": "markdown",
   "metadata": {},
   "source": [
    "Use algebraic manipulation to show that each of the following functions has a fixed point at $p$ precisely when $f(p) = 0, \\text{ where } f (x) = x^4 + 2x^2 − x − 3$.\n",
    "\n",
    "- $g_1(x) = (3 + x - 2x^2)^{\\frac{1}{4}}$\n",
    "\n",
    "- $g_2(x) = \\left(\\frac{x + 3 - x^4}{2}\\right)^{\\frac{1}{2}}$\n",
    "\n",
    "- $g_3(x) = \\left(\\frac{x + 3}{x^2 + 2}\\right)^{\\frac{1}{2}}$\n",
    "\n",
    "- $g_4(x) = \\frac{3x^4 + 2x^2 + 3}{4x^3 + 4x - 1}$"
   ]
  },
  {
   "cell_type": "code",
   "execution_count": 2,
   "metadata": {},
   "outputs": [],
   "source": [
    "# code"
   ]
  },
  {
   "cell_type": "markdown",
   "metadata": {},
   "source": [
    "### Ex 8"
   ]
  },
  {
   "cell_type": "markdown",
   "metadata": {},
   "source": [
    "Use a fixed-point iteration method to determine a solution accurate to within $10^{-2}$ for $x^3 — x — 1 =0$ on $[1, 2]$. Use $p_0 = 1$"
   ]
  },
  {
   "cell_type": "code",
   "execution_count": 6,
   "metadata": {},
   "outputs": [],
   "source": [
    "# code"
   ]
  }
 ],
 "metadata": {
  "kernelspec": {
   "display_name": "Julia 1.8.1",
   "language": "julia",
   "name": "julia-1.8"
  },
  "language_info": {
   "file_extension": ".jl",
   "mimetype": "application/julia",
   "name": "julia",
   "version": "1.8.1"
  },
  "toc": {
   "base_numbering": 1,
   "nav_menu": {},
   "number_sections": true,
   "sideBar": true,
   "skip_h1_title": false,
   "title_cell": "Table of Contents",
   "title_sidebar": "Contents",
   "toc_cell": false,
   "toc_position": {},
   "toc_section_display": true,
   "toc_window_display": false
  }
 },
 "nbformat": 4,
 "nbformat_minor": 4
}
