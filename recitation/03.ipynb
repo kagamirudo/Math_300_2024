{
 "cells": [
  {
   "cell_type": "markdown",
   "metadata": {},
   "source": [
    "# Math 300: Recitation 3"
   ]
  },
  {
   "cell_type": "markdown",
   "metadata": {},
   "source": [
    "## Necessary Packages for today"
   ]
  },
  {
   "cell_type": "code",
   "execution_count": 133,
   "metadata": {},
   "outputs": [],
   "source": [
    "using Plots\n",
    "using Printf\n",
    "using LaTeXStrings"
   ]
  },
  {
   "cell_type": "markdown",
   "metadata": {},
   "source": [
    "## Newton's Method\n",
    "\n",
    "Today we will show how to use Newton's Method to find the roots of a function. Recall that last week we used the bisection method to find the roots of a function.\n",
    "\n",
    "Newton's Method Pros/Cons:\n",
    "\n",
    "    Pros: This typically converges much faster than the bisection method.\n",
    "\n",
    "    Cons: We have to know the derivative of the function (and be able to explicitly define it) in order to use this method.\n",
    "\n",
    "Here we will use define a function that performs Newton's method for us. This algorithm is based off of the one on page 67 of Burden:"
   ]
  },
  {
   "cell_type": "code",
   "execution_count": 134,
   "metadata": {},
   "outputs": [
    {
     "data": {
      "text/plain": [
       "newton (generic function with 1 method)"
      ]
     },
     "metadata": {},
     "output_type": "display_data"
    }
   ],
   "source": [
    "function newton(f, df, p0, n_max, rel_tol; verbose = true) # verbose being true will create outputs on each iteration\n",
    "    \n",
    "    converged = false;\n",
    "    p = p0; # initialize p so it will live outside of the loop\n",
    "    p_old = p0; # initialize p_old and we will use it to find p in the loop\n",
    "\n",
    "    for i in 1:n_max\n",
    "\n",
    "        p = p_old - f(p_old)/df(p_old); # calculate p\n",
    "        \n",
    "        if verbose\n",
    "            @printf(\" %d: p = %.15g, f(p) = %g\\n\", i, p, f(p));\n",
    "        end\n",
    "\n",
    "        \n",
    "        if (i>1)\n",
    "            if abs(p-p_old)/abs(p)< rel_tol # Check to see if we're within tolerance.\n",
    "                converged = true;\n",
    "                if verbose\n",
    "                    @printf(\"Found Root within tolerance on Iteration %d: p = %.15g, f(p) = %g\\n\", i, p, f(p));\n",
    "                end\n",
    "                break\n",
    "            end\n",
    "        end\n",
    "\n",
    "        p_old = p; # store the new p as p_old to be used in the next iteration.\n",
    "\n",
    "    end\n",
    "    \n",
    "    if !converged\n",
    "        @printf(\"ERROR: Did not converge after %d iterations\\n\", n_max);\n",
    "    end\n",
    "\n",
    "    return p\n",
    "    \n",
    "end"
   ]
  },
  {
   "cell_type": "markdown",
   "metadata": {},
   "source": [
    "### Example 1\n",
    "\n",
    "Find the positive root of  \n",
    "$$ f(x) = x^2 - 2$$"
   ]
  },
  {
   "cell_type": "code",
   "execution_count": 135,
   "metadata": {},
   "outputs": [
    {
     "name": "stdout",
     "output_type": "stream",
     "text": [
      " 1: p = 1.5, f(p) = 0.25\n",
      " 2: p = 1.41666666666667, f(p) = 0.00694444\n",
      " 3: p = 1.41421568627451, f(p) = 6.0073e-06\n",
      " 4: p = 1.41421356237469, f(p) = 4.51061e-12\n",
      " 5: p = 1.4142135623731, f(p) = 4.44089e-16\n",
      "Found Root within tolerance on Iteration 5: p = 1.4142135623731, f(p) = 4.44089e-16\n"
     ]
    }
   ],
   "source": [
    "f = x-> x^2 - 2;\n",
    "df = x->2*x;\n",
    "\n",
    "p0 = 1.0;\n",
    "rel_tol = 1e-8;\n",
    "n_max = 100;\n",
    "\n",
    "p = newton(f, df, p0, n_max, rel_tol);"
   ]
  },
  {
   "cell_type": "markdown",
   "metadata": {},
   "source": [
    "recognize that we got there in 5 iterations. Now do this same thing with the bisection method function that we defined last time (In recitation 2 notebook):"
   ]
  },
  {
   "cell_type": "code",
   "execution_count": 136,
   "metadata": {},
   "outputs": [
    {
     "data": {
      "text/plain": [
       "bisect_method (generic function with 1 method)"
      ]
     },
     "metadata": {},
     "output_type": "display_data"
    }
   ],
   "source": [
    "function bisect_method(f, a, b, tol, N)\n",
    "    done = false; # changing this to false in the function will mean we have reached a stopping criteria\n",
    "    i = 1;\n",
    "    p = 0;\n",
    "    while (done == false) && (i <= N) # \"if no stopping criteria yet and we havent gone over max iterations...\"\n",
    "        FA = f(a)\n",
    "        p = (a + b)/2 # bisection point\n",
    "        FP = f(p)\n",
    "        b_old = b # this will help with outputing the error for this iteration\n",
    "        a_old = a # this will help with outputing the error for this iteration\n",
    "        if FA * FP < 0.0 # see if sign changed in first half of interval\n",
    "            a = a\n",
    "            b = p\n",
    "        elseif FA * FP > 0.0 # see if sign changed in second half of interval\n",
    "            a = p \n",
    "            b = b\n",
    "        else # FA * FP = 0, so this means we found the root exactly.\n",
    "            @printf(\"Iteration %d: Root found exactly at x=%g.\\n\",i, p)\n",
    "            done = true\n",
    "        end\n",
    "\n",
    "        if (b-a)/2 <= tol && done == false # we're within the tol but we didnt find the root exactly\n",
    "            @printf(\"Iteration %d: Root found at x=%g. With error %g.\\n\",i, p, (b-a)/2)\n",
    "            done = true\n",
    "        elseif (b-a)/2 > tol && done == false # we're not within the tol and we didnt find the root exactly, so keep going.\n",
    "            @printf(\"Iteration %d: Root approximation is x=%g with error %g.\\n\", i, (a_old+b_old)/2, (b_old-a_old)/2)\n",
    "            i += 1\n",
    "        end\n",
    "    end\n",
    "\n",
    "    return p # makes the function output p\n",
    "end"
   ]
  },
  {
   "cell_type": "markdown",
   "metadata": {},
   "source": [
    "Lets search for this root within the same tolerance and on the interval $[0,2]$:"
   ]
  },
  {
   "cell_type": "code",
   "execution_count": 137,
   "metadata": {},
   "outputs": [
    {
     "name": "stdout",
     "output_type": "stream",
     "text": [
      "Iteration 1: Root approximation is x=1 with error 1.\n",
      "Iteration 2: Root approximation is x=1.5 with error 0.5.\n",
      "Iteration 3: Root approximation is x=1.25 with error 0.25.\n",
      "Iteration 4: Root approximation is x=1.375 with error 0.125.\n",
      "Iteration 5: Root approximation is x=1.4375 with error 0.0625.\n",
      "Iteration 6: Root approximation is x=1.40625 with error 0.03125.\n",
      "Iteration 7: Root approximation is x=1.42188 with error 0.015625.\n",
      "Iteration 8: Root approximation is x=1.41406 with error 0.0078125.\n",
      "Iteration 9: Root approximation is x=1.41797 with error 0.00390625.\n",
      "Iteration 10: Root approximation is x=1.41602 with error 0.00195312.\n",
      "Iteration 11: Root approximation is x=1.41504 with error 0.000976562.\n",
      "Iteration 12: Root approximation is x=1.41455 with error 0.000488281.\n",
      "Iteration 13: Root approximation is x=1.41431 with error 0.000244141.\n",
      "Iteration 14: Root approximation is x=1.41418 with error 0.00012207.\n",
      "Iteration 15: Root approximation is x=1.41425 with error 6.10352e-05.\n",
      "Iteration 16: Root approximation is x=1.41422 with error 3.05176e-05.\n",
      "Iteration 17: Root approximation is x=1.4142 with error 1.52588e-05.\n",
      "Iteration 18: Root approximation is x=1.41421 with error 7.62939e-06.\n",
      "Iteration 19: Root approximation is x=1.41421 with error 3.8147e-06.\n",
      "Iteration 20: Root approximation is x=1.41421 with error 1.90735e-06.\n",
      "Iteration 21: Root approximation is x=1.41421 with error 9.53674e-07.\n",
      "Iteration 22: Root approximation is x=1.41421 with error 4.76837e-07.\n",
      "Iteration 23: Root approximation is x=1.41421 with error 2.38419e-07.\n",
      "Iteration 24: Root approximation is x=1.41421 with error 1.19209e-07.\n",
      "Iteration 25: Root approximation is x=1.41421 with error 5.96046e-08.\n",
      "Iteration 26: Root approximation is x=1.41421 with error 2.98023e-08.\n",
      "Iteration 27: Root found at x=1.41421. With error 7.45058e-09.\n"
     ]
    },
    {
     "data": {
      "text/plain": [
       "1.414213553071022"
      ]
     },
     "metadata": {},
     "output_type": "display_data"
    }
   ],
   "source": [
    "bisect_method(f, 0.0, 2.0, rel_tol, n_max)"
   ]
  },
  {
   "cell_type": "markdown",
   "metadata": {},
   "source": [
    "Yes, it may have not taken that long, but it took 27 iterations versus the 5 iterations of Newton's method."
   ]
  },
  {
   "cell_type": "markdown",
   "metadata": {},
   "source": [
    "### Example 2:\n",
    "\n",
    "Find the first positive fixed point of \n",
    "$$ f(x) = \\cos(x) $$\n",
    "\n",
    "Recogize first that since the fixed point of $f(x)$ is the point where $\\cos(x) = x$, this is the same thing as asking to find the first positive root of the function\n",
    "\n",
    "$$ g(x) = \\cos(x) - x $$\n",
    "\n",
    "We notice that the derivative of this function is\n",
    "\n",
    "$$ \\frac{dg}{dx}(x) = -\\sin(x) - 1 $$"
   ]
  },
  {
   "cell_type": "code",
   "execution_count": 138,
   "metadata": {},
   "outputs": [
    {
     "name": "stdout",
     "output_type": "stream",
     "text": [
      " 1: p = 0.755222417105636, f(p) = -0.0271033\n",
      " 2: p = 0.739141666149879, f(p) = -9.46154e-05\n",
      " 3: p = 0.739085133920807, f(p) = -1.18098e-09\n",
      " 4: p = 0.739085133215161, f(p) = 0\n",
      "Found Root within tolerance on Iteration 4: p = 0.739085133215161, f(p) = 0\n"
     ]
    }
   ],
   "source": [
    "f = x-> cos(x) -x; # define the function\n",
    "df = x->-sin(x) -1; # define its derivative\n",
    "p0 = 0.5; # initial guess\n",
    "rel_tol = 1e-8;\n",
    "n_max = 100;\n",
    "\n",
    "p = newton(f, df, p0, n_max, rel_tol);"
   ]
  },
  {
   "cell_type": "markdown",
   "metadata": {},
   "source": [
    "Recognize that we got there in only 4 iterations. Now, comparing this to bisection method:"
   ]
  },
  {
   "cell_type": "code",
   "execution_count": 139,
   "metadata": {},
   "outputs": [
    {
     "name": "stdout",
     "output_type": "stream",
     "text": [
      "Iteration 1: Root approximation is x=1 with error 1.\n",
      "Iteration 2: Root approximation is x=0.5 with error 0.5.\n",
      "Iteration 3: Root approximation is x=0.75 with error 0.25.\n",
      "Iteration 4: Root approximation is x=0.625 with error 0.125.\n",
      "Iteration 5: Root approximation is x=0.6875 with error 0.0625.\n",
      "Iteration 6: Root approximation is x=0.71875 with error 0.03125.\n",
      "Iteration 7: Root approximation is x=0.734375 with error 0.015625.\n",
      "Iteration 8: Root approximation is x=0.742188 with error 0.0078125.\n",
      "Iteration 9: Root approximation is x=0.738281 with error 0.00390625.\n",
      "Iteration 10: Root approximation is x=0.740234 with error 0.00195312.\n",
      "Iteration 11: Root approximation is x=0.739258 with error 0.000976562.\n",
      "Iteration 12: Root approximation is x=0.73877 with error 0.000488281.\n",
      "Iteration 13: Root approximation is x=0.739014 with error 0.000244141.\n",
      "Iteration 14: Root approximation is x=0.739136 with error 0.00012207.\n",
      "Iteration 15: Root approximation is x=0.739075 with error 6.10352e-05.\n",
      "Iteration 16: Root approximation is x=0.739105 with error 3.05176e-05.\n",
      "Iteration 17: Root approximation is x=0.73909 with error 1.52588e-05.\n",
      "Iteration 18: Root approximation is x=0.739082 with error 7.62939e-06.\n",
      "Iteration 19: Root approximation is x=0.739086 with error 3.8147e-06.\n",
      "Iteration 20: Root approximation is x=0.739084 with error 1.90735e-06.\n",
      "Iteration 21: Root approximation is x=0.739085 with error 9.53674e-07.\n",
      "Iteration 22: Root approximation is x=0.739085 with error 4.76837e-07.\n",
      "Iteration 23: Root approximation is x=0.739085 with error 2.38419e-07.\n",
      "Iteration 24: Root approximation is x=0.739085 with error 1.19209e-07.\n",
      "Iteration 25: Root approximation is x=0.739085 with error 5.96046e-08.\n",
      "Iteration 26: Root approximation is x=0.739085 with error 2.98023e-08.\n",
      "Iteration 27: Root found at x=0.739085. With error 7.45058e-09.\n"
     ]
    },
    {
     "data": {
      "text/plain": [
       "0.7390851229429245"
      ]
     },
     "metadata": {},
     "output_type": "display_data"
    }
   ],
   "source": [
    "bisect_method(f, 0.0, 2.0, rel_tol, n_max)"
   ]
  },
  {
   "cell_type": "markdown",
   "metadata": {},
   "source": [
    "This took 27 iterations, which is significantly more than 4 iterations."
   ]
  },
  {
   "cell_type": "markdown",
   "metadata": {},
   "source": [
    "#### Visual Depiction of Newton's Method\n",
    "\n",
    "Given the previous example, let's plot each iteration of Newton's method. This will show us how Newton's method uses the tangent line of the function in order to find it's root quicker. In this example I've selected a $p_0$ that allows us to see this process a little bit better, but you can play around with different $p_0$ values to see when this method converges and diverges"
   ]
  },
  {
   "cell_type": "code",
   "execution_count": 140,
   "metadata": {},
   "outputs": [],
   "source": [
    "n_max = 25;\n",
    "p_vals = zeros(n_max+1); # vector to store values at each iteration\n",
    "p0 = -0.685; # initial guess\n",
    "\n",
    "# Loop that calculates and stores p-values at each iteration.\n",
    "p = p0;\n",
    "p_vals[1] = p;\n",
    "for i in 1:n_max \n",
    "    p = p - f(p)/df(p);\n",
    "    p_vals[i+1] = p;\n",
    "\n",
    "end\n",
    "\n",
    "xx = LinRange(-5.0,5.0,100);\n",
    "\n",
    "ff = f.(xx);\n",
    "plot(xx, ff, label=L\"f\", legend=:topleft)\n",
    "plot!(xx, 0 *xx,label=\"\", color=:black)\n",
    "\n",
    "anim = @animate for i=1:n_max+1\n",
    "    \n",
    "    p = p_vals[i];\n",
    "    \n",
    "    plot!([p, p], [0, f(p)], label=\"\", color=:red, ls=:dash)\n",
    "    plot!([p, p- f(p)/df(p)],[f(p), 0],label=\"\", color=:red)\n",
    "    xlims!(-5,5)\n",
    "    ylims!(-3, 3.0)\n",
    "    \n",
    "    xlabel!(L\"x\");\n",
    "    ylabel!(L\"y\")\n",
    "    title!(@sprintf(\"n = %d\", i))\n",
    "end;"
   ]
  },
  {
   "cell_type": "code",
   "execution_count": null,
   "metadata": {},
   "outputs": [],
   "source": [
    "gif(anim,  fps = 3)"
   ]
  },
  {
   "cell_type": "markdown",
   "metadata": {},
   "source": [
    "Now lets do the same exact thing, but choose a bad intial guess."
   ]
  },
  {
   "cell_type": "code",
   "execution_count": 141,
   "metadata": {},
   "outputs": [],
   "source": [
    "n_max = 100;\n",
    "p_vals = zeros(n_max+1); # vector to store values at each iteration\n",
    "p0 = 3 * π/2 - 0.01; # initial guess\n",
    "\n",
    "# Loop that calculates and stores p-values at each iteration.\n",
    "p = p0;\n",
    "p_vals[1] = p;\n",
    "for i in 1:n_max \n",
    "    p = p - f(p)/df(p);\n",
    "    p_vals[i+1] = p;\n",
    "\n",
    "end\n",
    "\n",
    "xx = LinRange(-10.0,10.0,100);\n",
    "\n",
    "ff = f.(xx);\n",
    "plot(xx, ff, label=L\"f\", legend=:topleft)\n",
    "plot!(xx, 0 *xx,label=\"\", color=:black)\n",
    "\n",
    "anim = @animate for i=1:n_max+1\n",
    "    \n",
    "    p = p_vals[i];\n",
    "    \n",
    "    plot!([p, p], [0, f(p)], label=\"\", color=:red, ls=:dash)\n",
    "    plot!([p, p- f(p)/df(p)],[f(p), 0],label=\"\", color=:red)\n",
    "    xlims!(-10,10)\n",
    "    ylims!(-5, 5.0)\n",
    "    \n",
    "    xlabel!(L\"x\");\n",
    "    ylabel!(L\"y\")\n",
    "    title!(@sprintf(\"n = %d\", i))\n",
    "end;"
   ]
  },
  {
   "cell_type": "code",
   "execution_count": null,
   "metadata": {},
   "outputs": [],
   "source": [
    "gif(anim,  fps = 5)"
   ]
  },
  {
   "cell_type": "markdown",
   "metadata": {},
   "source": [
    "you can see that this still does eventually converge, but we selected an initial guess where the derivative was very close to zero, so it took longer for the approximated value to start to converge towards the true root."
   ]
  },
  {
   "cell_type": "markdown",
   "metadata": {},
   "source": []
  }
 ],
 "metadata": {
  "kernelspec": {
   "display_name": "Julia 1.10.1",
   "language": "julia",
   "name": "julia-1.10"
  },
  "language_info": {
   "file_extension": ".jl",
   "mimetype": "application/julia",
   "name": "julia",
   "version": "1.10.1"
  }
 },
 "nbformat": 4,
 "nbformat_minor": 2
}
